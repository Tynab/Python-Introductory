{
 "cells": [
  {
   "cell_type": "markdown",
   "id": "bc3c16d4",
   "metadata": {},
   "source": [
    "# BÀI TẬP PYTHON NHẬP MÔN"
   ]
  },
  {
   "cell_type": "markdown",
   "id": "959e9634",
   "metadata": {},
   "source": [
    "## Đề Bài"
   ]
  },
  {
   "cell_type": "markdown",
   "id": "df2e1515",
   "metadata": {},
   "source": [
    "1. Viết hàm in lời chào mừng khách hàng như sau:\n",
    "    1. Hàm nhận vào họ của khách hàng, tên đệm và tên gọi, danh xưng (Mr. hoặc Ms.). Lưu ý: họ, tên và tên đệm là 2 biến khác nhau.\n",
    "    2. In ra lời chào với danh xưng và họ. Ví dụ: \"Xin chào Mr. Nguyen\"\n",
    "    3. In ra câu thông báo: \"Tên in trên vé của bạn là họ-và-tên\". Ví dụ: \"Tên in trên vé của bạn là Nguyen Van A”.\n",
    "2. Cũng với hàm trên, nhưng thêm vào biến global cho phép tăng số ghế của hành khách, bắt đầu từ 99.\n",
    "    Ví dụ:\n",
    "    1. Sau khi gọi hàm với khách hàng Nguyen Van A, in thêm câu: \"Số ghế của bạn là 100\".\n",
    "    2. Tiếp tục gọi hàm với khách hàng Tran Van B, in thêm câu: \"Số ghế của bạn là 101\".\n",
    "3. Tiếp tục bổ sung hàm trên, nhận thêm thông tin về năm sinh của khách hàng. In ra tuổi của khách hàng. Ví dụ: \"Bạn năm nay 20 tuổi\" (khi nhận nam_sinh = 2002)."
   ]
  },
  {
   "cell_type": "markdown",
   "id": "23cccb76",
   "metadata": {},
   "source": [
    "## Script"
   ]
  },
  {
   "cell_type": "markdown",
   "id": "87e308ae",
   "metadata": {},
   "source": [
    "### Using"
   ]
  },
  {
   "cell_type": "code",
   "execution_count": 16,
   "id": "480402a9",
   "metadata": {},
   "outputs": [],
   "source": [
    "from datetime import date"
   ]
  },
  {
   "cell_type": "markdown",
   "id": "b3c65034",
   "metadata": {},
   "source": [
    "### Extension Methods"
   ]
  },
  {
   "cell_type": "code",
   "execution_count": 17,
   "id": "22e81c3d",
   "metadata": {},
   "outputs": [],
   "source": [
    "# Ensure that the input is always an integer\n",
    "def get_input_int(cap='Nhập số nguyên: '):\n",
    "    while True:\n",
    "        try:\n",
    "            return int(input(cap))\n",
    "        except:\n",
    "            print('Dữ liệu nhập vào phải là số nguyên, xin vui lòng thử lại...')"
   ]
  },
  {
   "cell_type": "code",
   "execution_count": 18,
   "id": "077234c3",
   "metadata": {},
   "outputs": [],
   "source": [
    "# Ensure that the input is always an integer in range\n",
    "def get_input_int_in_range(cap, min, max):\n",
    "    while True:\n",
    "        num = get_input_int(cap)\n",
    "        if min <= num <= max:\n",
    "            return num\n",
    "        else:\n",
    "            print('Dữ liệu nhập vào không hợp lệ, xin vui lòng thử lại...')"
   ]
  },
  {
   "cell_type": "code",
   "execution_count": 19,
   "id": "2b5516b8",
   "metadata": {},
   "outputs": [],
   "source": [
    "# Ensure that the input is always not a number\n",
    "def get_input_text(cap='Nhập chuỗi: '):\n",
    "    while True:\n",
    "        text = input(cap)\n",
    "        if text.isalpha():\n",
    "            return text\n",
    "        else:\n",
    "            print('Dữ liệu nhập vào phải khác số, xin vui lòng thử lại...')"
   ]
  },
  {
   "cell_type": "code",
   "execution_count": 20,
   "id": "d0e9ce19",
   "metadata": {},
   "outputs": [],
   "source": [
    "# Ensure that the input choice is always valid\n",
    "def get_input_choice(choices):\n",
    "    while True:\n",
    "        choice = get_input_int(\"Chọn 1 trong các phương án trên: \")\n",
    "        if choice in choices:\n",
    "            return choice\n",
    "        print('Lựa chọn không hợp lệ, xin vui lòng thử lại...')"
   ]
  },
  {
   "cell_type": "markdown",
   "id": "608c1175",
   "metadata": {},
   "source": [
    "### Contract Fields"
   ]
  },
  {
   "cell_type": "code",
   "execution_count": 21,
   "id": "6356dd46",
   "metadata": {},
   "outputs": [],
   "source": [
    "stg_cnt = 99  # seating count"
   ]
  },
  {
   "cell_type": "code",
   "execution_count": 22,
   "id": "f7e453b1",
   "metadata": {},
   "outputs": [],
   "source": [
    "# Title dictionary\n",
    "TIT_DICT = {\n",
    "    1: 'Mr.',\n",
    "    2: 'Ms.'\n",
    "}"
   ]
  },
  {
   "cell_type": "code",
   "execution_count": 23,
   "id": "5046d818",
   "metadata": {},
   "outputs": [],
   "source": [
    "class Client:\n",
    "    # Initialization\n",
    "    def __init__(self, lastName, firstName, title, seatingCount=1, birthYear=1):\n",
    "        self.lastName = lastName\n",
    "        self.firstName = firstName\n",
    "        self.title = title\n",
    "        self.seatingCount = seatingCount\n",
    "        self.birthYear = birthYear\n",
    "    \n",
    "    # Calculate age of client\n",
    "    def calculate_age(self):\n",
    "        return date.today().year - self.birthYear\n",
    "\n",
    "    # Show message for client\n",
    "    def show_message(self):\n",
    "        print(f'''\n",
    "Xin chào {self.title} {self.lastName},\n",
    "Tên in trên vé của bạn là {self.lastName} {self.firstName}.\n",
    "Số ghế của bạn là {self.seatingCount}.\n",
    "Bạn năm nay {self.calculate_age()} tuổi.''')"
   ]
  },
  {
   "cell_type": "markdown",
   "id": "82f95a0c",
   "metadata": {},
   "source": [
    "### Contract Methods"
   ]
  },
  {
   "cell_type": "code",
   "execution_count": 24,
   "id": "acbec4bd",
   "metadata": {},
   "outputs": [],
   "source": [
    "# Title choice\n",
    "def title_choice():\n",
    "    print('''Danh xưng...\n",
    "    1. Mr.\n",
    "    2. Ms.''')\n",
    "    choices = [1, 2]\n",
    "    return TIT_DICT.get(get_input_choice(choices))"
   ]
  },
  {
   "cell_type": "code",
   "execution_count": 25,
   "id": "02fff3be",
   "metadata": {},
   "outputs": [],
   "source": [
    "# Main\n",
    "def main():\n",
    "    lastName = get_input_text('Nhập họ: ').title()\n",
    "    firstName = get_input_text('Nhập tên (và chữ lót): ').title()\n",
    "    title = title_choice()\n",
    "    global stg_cnt\n",
    "    stg_cnt += 1\n",
    "    birthYear = get_input_int_in_range('Nhập năm sinh: ', 1, date.today().year - 1)\n",
    "    client = Client(lastName, firstName, title, stg_cnt, birthYear)\n",
    "    client.show_message()"
   ]
  },
  {
   "cell_type": "code",
   "execution_count": 27,
   "id": "c3b5193c",
   "metadata": {},
   "outputs": [
    {
     "name": "stdout",
     "output_type": "stream",
     "text": [
      "Nhập họ: 1\n",
      "Dữ liệu nhập vào phải khác số, xin vui lòng thử lại...\n",
      "Nhập họ: 2.3\n",
      "Dữ liệu nhập vào phải khác số, xin vui lòng thử lại...\n",
      "Nhập họ: yAmI\n",
      "Nhập tên (và chữ lót): an\n",
      "Danh xưng...\n",
      "    1. Mr.\n",
      "    2. Ms.\n",
      "Chọn 1 trong các phương án trên: a\n",
      "Dữ liệu nhập vào phải là số nguyên, xin vui lòng thử lại...\n",
      "Chọn 1 trong các phương án trên: 0\n",
      "Lựa chọn không hợp lệ, xin vui lòng thử lại...\n",
      "Chọn 1 trong các phương án trên: 3\n",
      "Lựa chọn không hợp lệ, xin vui lòng thử lại...\n",
      "Chọn 1 trong các phương án trên: 1\n",
      "Nhập năm sinh: b\n",
      "Dữ liệu nhập vào phải là số nguyên, xin vui lòng thử lại...\n",
      "Nhập năm sinh: -4\n",
      "Dữ liệu nhập vào không hợp lệ, xin vui lòng thử lại...\n",
      "Nhập năm sinh: 0\n",
      "Dữ liệu nhập vào không hợp lệ, xin vui lòng thử lại...\n",
      "Nhập năm sinh: 2024\n",
      "Dữ liệu nhập vào không hợp lệ, xin vui lòng thử lại...\n",
      "Nhập năm sinh: 1993\n",
      "\n",
      "Xin chào Mr. Yami,\n",
      "Tên in trên vé của bạn là Yami An.\n",
      "Số ghế của bạn là 101.\n",
      "Bạn năm nay 30 tuổi.\n"
     ]
    }
   ],
   "source": [
    "# Run\n",
    "main()"
   ]
  }
 ],
 "metadata": {
  "kernelspec": {
   "display_name": "Python 3 (ipykernel)",
   "language": "python",
   "name": "python3"
  },
  "language_info": {
   "codemirror_mode": {
    "name": "ipython",
    "version": 3
   },
   "file_extension": ".py",
   "mimetype": "text/x-python",
   "name": "python",
   "nbconvert_exporter": "python",
   "pygments_lexer": "ipython3",
   "version": "3.9.13"
  },
  "varInspector": {
   "cols": {
    "lenName": 16,
    "lenType": 16,
    "lenVar": 40
   },
   "kernels_config": {
    "python": {
     "delete_cmd_postfix": "",
     "delete_cmd_prefix": "del ",
     "library": "var_list.py",
     "varRefreshCmd": "print(var_dic_list())"
    },
    "r": {
     "delete_cmd_postfix": ") ",
     "delete_cmd_prefix": "rm(",
     "library": "var_list.r",
     "varRefreshCmd": "cat(var_dic_list()) "
    }
   },
   "types_to_exclude": [
    "module",
    "function",
    "builtin_function_or_method",
    "instance",
    "_Feature"
   ],
   "window_display": false
  },
  "vscode": {
   "interpreter": {
    "hash": "bb31923fe1462919371239128cb0b2695295dfc560fc452d1a3a2e251a4b53eb"
   }
  }
 },
 "nbformat": 4,
 "nbformat_minor": 5
}
