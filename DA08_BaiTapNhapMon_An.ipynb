{
 "cells": [
  {
   "cell_type": "markdown",
   "id": "bc3c16d4",
   "metadata": {},
   "source": [
    "# BÀI TẬP PYTHON NHẬP MÔN"
   ]
  },
  {
   "cell_type": "markdown",
   "id": "959e9634",
   "metadata": {},
   "source": [
    "## Đề Bài"
   ]
  },
  {
   "cell_type": "markdown",
   "id": "df2e1515",
   "metadata": {},
   "source": [
    "1. Viết hàm in lời chào mừng khách hàng như sau:\n",
    "    1. Hàm nhận vào họ của khách hàng, tên đệm và tên gọi, danh xưng (Mr. hoặc Ms.). Lưu ý: họ, tên và tên đệm là 2 biến khác nhau.\n",
    "    2. In ra lời chào với danh xưng và họ. Ví dụ: \"Xin chào Mr. Nguyen\"\n",
    "    3. In ra câu thông báo: \"Tên in trên vé của bạn là họ-và-tên\". Ví dụ: \"Tên in trên vé của bạn là Nguyen Van A”.\n",
    "2. Cũng với hàm trên, nhưng thêm vào biến global cho phép tăng số ghế của hành khách, bắt đầu từ 99.\n",
    "    Ví dụ:\n",
    "    1. Sau khi gọi hàm với khách hàng Nguyen Van A, in thêm câu: \"Số ghế của bạn là 100\".\n",
    "    2. Tiếp tục gọi hàm với khách hàng Tran Van B, in thêm câu: \"Số ghế của bạn là 101\".\n",
    "3. Tiếp tục bổ sung hàm trên, nhận thêm thông tin về năm sinh của khách hàng. In ra tuổi của khách hàng. Ví dụ: \"Bạn năm nay 20 tuổi\" (khi nhận nam_sinh = 2002)."
   ]
  },
  {
   "cell_type": "markdown",
   "id": "23cccb76",
   "metadata": {},
   "source": [
    "## Script"
   ]
  },
  {
   "cell_type": "markdown",
   "id": "87e308ae",
   "metadata": {},
   "source": [
    "### Using"
   ]
  },
  {
   "cell_type": "code",
   "execution_count": 1,
   "id": "480402a9",
   "metadata": {},
   "outputs": [],
   "source": [
    "from datetime import date"
   ]
  },
  {
   "cell_type": "markdown",
   "id": "b3c65034",
   "metadata": {},
   "source": [
    "### Extension Methods"
   ]
  },
  {
   "cell_type": "code",
   "execution_count": 2,
   "id": "8c8d3ac2",
   "metadata": {},
   "outputs": [],
   "source": [
    "# Check if input is float\n",
    "def isFloat(inp):\n",
    "    try:\n",
    "        inp = float(inp)\n",
    "        return True\n",
    "    except:\n",
    "        return False"
   ]
  },
  {
   "cell_type": "code",
   "execution_count": 3,
   "id": "22e81c3d",
   "metadata": {},
   "outputs": [],
   "source": [
    "# Make sure input is integer\n",
    "def inpInt():\n",
    "    turn = 0\n",
    "    while True:\n",
    "        try:\n",
    "            if turn > 0:\n",
    "                print('Dữ liệu nhập vào phải là số nguyên, xin vui lòng thử lại: ', end='')\n",
    "            val = input()\n",
    "            num = int(val)\n",
    "            break\n",
    "        except:\n",
    "            turn += 1\n",
    "            continue\n",
    "    return num"
   ]
  },
  {
   "cell_type": "code",
   "execution_count": 4,
   "id": "2b5516b8",
   "metadata": {},
   "outputs": [],
   "source": [
    "# Make sure input is text\n",
    "def inpText():\n",
    "    text = ''\n",
    "    turn = 0\n",
    "    while text == '' or isFloat(text):\n",
    "        if turn > 0:\n",
    "            print('Dữ liệu nhập vào phải khác số, xin vui lòng thử lại: ', end='')\n",
    "        text = input()\n",
    "        turn += 1\n",
    "    return text"
   ]
  },
  {
   "cell_type": "code",
   "execution_count": 5,
   "id": "d0e9ce19",
   "metadata": {},
   "outputs": [],
   "source": [
    "# Make sure the selection is within the available options\n",
    "def choosenOne(min=1, max=2):\n",
    "    choosen = -1\n",
    "    turn = 0\n",
    "    while choosen < min or choosen > max:\n",
    "        if turn > 0:\n",
    "            print('Dữ liệu không hợp lệ, xin vui lòng thử lại: ', end='')\n",
    "        choosen = inpInt()\n",
    "        turn += 1\n",
    "    return choosen"
   ]
  },
  {
   "cell_type": "code",
   "execution_count": 6,
   "id": "95c47920",
   "metadata": {},
   "outputs": [],
   "source": [
    "# Choosen with caption\n",
    "def choosenWithCap(cap='Nhập: ', min=1, max=2):\n",
    "    print(cap, end='')\n",
    "    num = choosenOne(min, max)\n",
    "    return num"
   ]
  },
  {
   "cell_type": "code",
   "execution_count": 7,
   "id": "26db9210",
   "metadata": {},
   "outputs": [],
   "source": [
    "# Input text with caption\n",
    "def inpTextWithCap(cap='Nhập: '):\n",
    "    print(cap, end='')\n",
    "    text = inpText()\n",
    "    return text"
   ]
  },
  {
   "cell_type": "markdown",
   "id": "608c1175",
   "metadata": {},
   "source": [
    "### Contract Fields"
   ]
  },
  {
   "cell_type": "code",
   "execution_count": 8,
   "id": "6356dd46",
   "metadata": {},
   "outputs": [],
   "source": [
    "seats = 99"
   ]
  },
  {
   "cell_type": "code",
   "execution_count": 9,
   "id": "f7e453b1",
   "metadata": {},
   "outputs": [],
   "source": [
    "tit_dict = {\n",
    "    1: 'Mr.',\n",
    "    2: 'Ms.'\n",
    "}"
   ]
  },
  {
   "cell_type": "code",
   "execution_count": 10,
   "id": "5046d818",
   "metadata": {},
   "outputs": [],
   "source": [
    "class Client:\n",
    "    # Initialization\n",
    "    def __init__(self, lastName, fstName, tit, seat=1, yearB=1):\n",
    "        self.lastname = lastName\n",
    "        self.firstname = fstName\n",
    "        self.title = tit\n",
    "        self.seat = seat\n",
    "        self.yearofbirth = yearB\n",
    "    \n",
    "    # Get year old of client\n",
    "    def yearold(self):\n",
    "        return date.today().year - self.yearofbirth\n",
    "\n",
    "    # Show message for client\n",
    "    def showmessage(self):\n",
    "        print(f'''\n",
    "Xin chào {self.title} {self.lastname},\n",
    "Tên in trên vé của bạn là {self.lastname} {self.firstname}.\n",
    "Số ghế của bạn là {self.seat}.\n",
    "Bạn năm nay {self.yearold()} tuổi.''')"
   ]
  },
  {
   "cell_type": "markdown",
   "id": "82f95a0c",
   "metadata": {},
   "source": [
    "### Contract Methods"
   ]
  },
  {
   "cell_type": "code",
   "execution_count": 11,
   "id": "acbec4bd",
   "metadata": {},
   "outputs": [],
   "source": [
    "# Choose title\n",
    "def chooseTit():\n",
    "    choosen = 0\n",
    "    while choosen != 1 and choosen != 2:\n",
    "        print('''Danh xưng...\n",
    "    1. Mr.\n",
    "    2. Ms.\n",
    "Chọn 1 trong các phương án trên: ''', end='')\n",
    "        choosen = choosenOne(1, 2)\n",
    "    return tit_dict.get(choosen)"
   ]
  },
  {
   "cell_type": "code",
   "execution_count": 12,
   "id": "02fff3be",
   "metadata": {},
   "outputs": [],
   "source": [
    "# Main\n",
    "def main(seats=99):\n",
    "    lastName = inpTextWithCap('Nhập họ: ').title()\n",
    "    fstName = inpTextWithCap('Nhập tên (và chữ lót): ').title()\n",
    "    tit = chooseTit()\n",
    "    seats += 1\n",
    "    yearB = choosenWithCap('Nhập năm sinh: ', 1, date.today().year - 1)\n",
    "    x = Client(lastName, fstName, tit, seats, yearB)\n",
    "    x.showmessage()\n",
    "    return seats"
   ]
  },
  {
   "cell_type": "code",
   "execution_count": 14,
   "id": "c3b5193c",
   "metadata": {},
   "outputs": [
    {
     "name": "stdout",
     "output_type": "stream",
     "text": [
      "Nhập họ: 1\n",
      "Dữ liệu nhập vào phải khác số, xin vui lòng thử lại: 2.3\n",
      "Dữ liệu nhập vào phải khác số, xin vui lòng thử lại: yAmI\n",
      "Nhập tên (và chữ lót): 4.5\n",
      "Dữ liệu nhập vào phải khác số, xin vui lòng thử lại: 6\n",
      "Dữ liệu nhập vào phải khác số, xin vui lòng thử lại: an\n",
      "Danh xưng...\n",
      "    1. Mr.\n",
      "    2. Ms.\n",
      "Chọn 1 trong các phương án trên: a\n",
      "Dữ liệu nhập vào phải là số nguyên, xin vui lòng thử lại: 7.8\n",
      "Dữ liệu nhập vào phải là số nguyên, xin vui lòng thử lại: 0\n",
      "Dữ liệu không hợp lệ, xin vui lòng thử lại: 9\n",
      "Dữ liệu không hợp lệ, xin vui lòng thử lại: 1\n",
      "Nhập năm sinh: b\n",
      "Dữ liệu nhập vào phải là số nguyên, xin vui lòng thử lại: 1.2\n",
      "Dữ liệu nhập vào phải là số nguyên, xin vui lòng thử lại: -3\n",
      "Dữ liệu không hợp lệ, xin vui lòng thử lại: 0\n",
      "Dữ liệu không hợp lệ, xin vui lòng thử lại: 2024\n",
      "Dữ liệu không hợp lệ, xin vui lòng thử lại: 1993\n",
      "\n",
      "Xin chào Mr. Yami,\n",
      "Tên in trên vé của bạn là Yami An.\n",
      "Số ghế của bạn là 101.\n",
      "Bạn năm nay 30 tuổi.\n"
     ]
    }
   ],
   "source": [
    "# Run\n",
    "seats = main(seats)"
   ]
  }
 ],
 "metadata": {
  "kernelspec": {
   "display_name": "Python 3 (ipykernel)",
   "language": "python",
   "name": "python3"
  },
  "language_info": {
   "codemirror_mode": {
    "name": "ipython",
    "version": 3
   },
   "file_extension": ".py",
   "mimetype": "text/x-python",
   "name": "python",
   "nbconvert_exporter": "python",
   "pygments_lexer": "ipython3",
   "version": "3.9.13"
  },
  "varInspector": {
   "cols": {
    "lenName": 16,
    "lenType": 16,
    "lenVar": 40
   },
   "kernels_config": {
    "python": {
     "delete_cmd_postfix": "",
     "delete_cmd_prefix": "del ",
     "library": "var_list.py",
     "varRefreshCmd": "print(var_dic_list())"
    },
    "r": {
     "delete_cmd_postfix": ") ",
     "delete_cmd_prefix": "rm(",
     "library": "var_list.r",
     "varRefreshCmd": "cat(var_dic_list()) "
    }
   },
   "types_to_exclude": [
    "module",
    "function",
    "builtin_function_or_method",
    "instance",
    "_Feature"
   ],
   "window_display": false
  },
  "vscode": {
   "interpreter": {
    "hash": "bb31923fe1462919371239128cb0b2695295dfc560fc452d1a3a2e251a4b53eb"
   }
  }
 },
 "nbformat": 4,
 "nbformat_minor": 5
}
